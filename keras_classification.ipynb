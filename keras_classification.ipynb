{
 "cells": [
  {
   "cell_type": "code",
<<<<<<< HEAD
   "execution_count": 3,
   "metadata": {},
   "outputs": [
    {
     "name": "stderr",
     "output_type": "stream",
     "text": [
      "Using TensorFlow backend.\n"
     ]
    }
   ],
=======
   "execution_count": 173,
   "metadata": {},
   "outputs": [],
>>>>>>> 518089ed640712f4df2150eeabd1c51882461f3e
   "source": [
    "import pandas as pd\n",
    "import numpy as np \n",
    "import keras\n",
    "import matplotlib.pyplot as plt\n",
    "import seaborn as sns\n",
    "from sklearn.preprocessing import MinMaxScaler\n",
    "from sklearn.decomposition import PCA\n",
<<<<<<< HEAD
    "from sklearn.utils import resample\n",
=======
>>>>>>> 518089ed640712f4df2150eeabd1c51882461f3e
    "df= pd.read_csv(\"Dataset/creditcard.csv\")"
   ]
  },
  {
   "cell_type": "code",
<<<<<<< HEAD
   "execution_count": 4,
=======
   "execution_count": 174,
>>>>>>> 518089ed640712f4df2150eeabd1c51882461f3e
   "metadata": {},
   "outputs": [
    {
     "data": {
      "text/html": [
       "<div>\n",
       "<style scoped>\n",
       "    .dataframe tbody tr th:only-of-type {\n",
       "        vertical-align: middle;\n",
       "    }\n",
       "\n",
       "    .dataframe tbody tr th {\n",
       "        vertical-align: top;\n",
       "    }\n",
       "\n",
       "    .dataframe thead th {\n",
       "        text-align: right;\n",
       "    }\n",
       "</style>\n",
       "<table border=\"1\" class=\"dataframe\">\n",
       "  <thead>\n",
       "    <tr style=\"text-align: right;\">\n",
       "      <th></th>\n",
       "      <th>Time</th>\n",
       "      <th>V1</th>\n",
       "      <th>V2</th>\n",
       "      <th>V3</th>\n",
       "      <th>V4</th>\n",
       "      <th>V5</th>\n",
       "      <th>V6</th>\n",
       "      <th>V7</th>\n",
       "      <th>V8</th>\n",
       "      <th>V9</th>\n",
       "      <th>...</th>\n",
       "      <th>V21</th>\n",
       "      <th>V22</th>\n",
       "      <th>V23</th>\n",
       "      <th>V24</th>\n",
       "      <th>V25</th>\n",
       "      <th>V26</th>\n",
       "      <th>V27</th>\n",
       "      <th>V28</th>\n",
       "      <th>Amount</th>\n",
       "      <th>Class</th>\n",
       "    </tr>\n",
       "  </thead>\n",
       "  <tbody>\n",
       "    <tr>\n",
       "      <td>count</td>\n",
       "      <td>279949.000000</td>\n",
       "      <td>279949.000000</td>\n",
       "      <td>279949.000000</td>\n",
       "      <td>279949.000000</td>\n",
       "      <td>279949.000000</td>\n",
       "      <td>279949.000000</td>\n",
       "      <td>279949.000000</td>\n",
       "      <td>279949.000000</td>\n",
       "      <td>279949.000000</td>\n",
       "      <td>279949.000000</td>\n",
       "      <td>...</td>\n",
       "      <td>279949.000000</td>\n",
       "      <td>279949.000000</td>\n",
       "      <td>279949.000000</td>\n",
       "      <td>279949.000000</td>\n",
       "      <td>279949.000000</td>\n",
       "      <td>279949.000000</td>\n",
       "      <td>279949.000000</td>\n",
       "      <td>279949.000000</td>\n",
       "      <td>279949.000000</td>\n",
       "      <td>279949.000000</td>\n",
       "    </tr>\n",
       "    <tr>\n",
       "      <td>mean</td>\n",
       "      <td>93493.773580</td>\n",
       "      <td>-0.001013</td>\n",
       "      <td>-0.005981</td>\n",
       "      <td>0.013645</td>\n",
       "      <td>0.002200</td>\n",
       "      <td>-0.004974</td>\n",
       "      <td>0.002555</td>\n",
       "      <td>-0.002103</td>\n",
       "      <td>-0.000620</td>\n",
       "      <td>-0.000111</td>\n",
       "      <td>...</td>\n",
       "      <td>-0.000277</td>\n",
       "      <td>-0.001540</td>\n",
       "      <td>-0.000762</td>\n",
       "      <td>-0.000310</td>\n",
       "      <td>0.002419</td>\n",
       "      <td>0.000037</td>\n",
       "      <td>0.000065</td>\n",
       "      <td>0.000029</td>\n",
       "      <td>88.689328</td>\n",
       "      <td>0.001743</td>\n",
       "    </tr>\n",
       "    <tr>\n",
       "      <td>std</td>\n",
       "      <td>46819.605382</td>\n",
       "      <td>1.956698</td>\n",
       "      <td>1.650802</td>\n",
       "      <td>1.513507</td>\n",
       "      <td>1.415784</td>\n",
       "      <td>1.379128</td>\n",
       "      <td>1.330843</td>\n",
       "      <td>1.235432</td>\n",
       "      <td>1.192263</td>\n",
       "      <td>1.100348</td>\n",
       "      <td>...</td>\n",
       "      <td>0.735580</td>\n",
       "      <td>0.724268</td>\n",
       "      <td>0.626659</td>\n",
       "      <td>0.605957</td>\n",
       "      <td>0.520459</td>\n",
       "      <td>0.482750</td>\n",
       "      <td>0.403044</td>\n",
       "      <td>0.330863</td>\n",
       "      <td>250.331097</td>\n",
       "      <td>0.041715</td>\n",
       "    </tr>\n",
       "    <tr>\n",
       "      <td>min</td>\n",
       "      <td>0.000000</td>\n",
       "      <td>-56.407510</td>\n",
       "      <td>-72.715728</td>\n",
       "      <td>-48.325589</td>\n",
       "      <td>-5.683171</td>\n",
       "      <td>-113.743307</td>\n",
       "      <td>-26.160506</td>\n",
       "      <td>-43.557242</td>\n",
       "      <td>-73.216718</td>\n",
       "      <td>-13.434066</td>\n",
       "      <td>...</td>\n",
       "      <td>-34.830382</td>\n",
       "      <td>-10.933144</td>\n",
       "      <td>-44.807735</td>\n",
       "      <td>-2.836627</td>\n",
       "      <td>-10.295397</td>\n",
       "      <td>-2.604551</td>\n",
       "      <td>-22.565679</td>\n",
       "      <td>-15.430084</td>\n",
       "      <td>0.000000</td>\n",
       "      <td>0.000000</td>\n",
       "    </tr>\n",
       "    <tr>\n",
       "      <td>25%</td>\n",
       "      <td>53660.000000</td>\n",
       "      <td>-0.920386</td>\n",
       "      <td>-0.602418</td>\n",
       "      <td>-0.871328</td>\n",
       "      <td>-0.848565</td>\n",
       "      <td>-0.696769</td>\n",
       "      <td>-0.765626</td>\n",
       "      <td>-0.555849</td>\n",
       "      <td>-0.207593</td>\n",
       "      <td>-0.645372</td>\n",
       "      <td>...</td>\n",
       "      <td>-0.227939</td>\n",
       "      <td>-0.540894</td>\n",
       "      <td>-0.162242</td>\n",
       "      <td>-0.354498</td>\n",
       "      <td>-0.314231</td>\n",
       "      <td>-0.327508</td>\n",
       "      <td>-0.070713</td>\n",
       "      <td>-0.052699</td>\n",
       "      <td>5.720000</td>\n",
       "      <td>0.000000</td>\n",
       "    </tr>\n",
       "    <tr>\n",
       "      <td>50%</td>\n",
       "      <td>83456.000000</td>\n",
       "      <td>0.019256</td>\n",
       "      <td>0.062769</td>\n",
       "      <td>0.195399</td>\n",
       "      <td>-0.015383</td>\n",
       "      <td>-0.060620</td>\n",
       "      <td>-0.270649</td>\n",
       "      <td>0.037116</td>\n",
       "      <td>0.023006</td>\n",
       "      <td>-0.052506</td>\n",
       "      <td>...</td>\n",
       "      <td>-0.029834</td>\n",
       "      <td>0.005531</td>\n",
       "      <td>-0.011919</td>\n",
       "      <td>0.041344</td>\n",
       "      <td>0.021121</td>\n",
       "      <td>-0.053060</td>\n",
       "      <td>0.001502</td>\n",
       "      <td>0.011561</td>\n",
       "      <td>22.130000</td>\n",
       "      <td>0.000000</td>\n",
       "    </tr>\n",
       "    <tr>\n",
       "      <td>75%</td>\n",
       "      <td>137788.000000</td>\n",
       "      <td>1.310178</td>\n",
       "      <td>0.797892</td>\n",
       "      <td>1.037772</td>\n",
       "      <td>0.749851</td>\n",
       "      <td>0.605564</td>\n",
       "      <td>0.401720</td>\n",
       "      <td>0.566616</td>\n",
       "      <td>0.327047</td>\n",
       "      <td>0.599040</td>\n",
       "      <td>...</td>\n",
       "      <td>0.184745</td>\n",
       "      <td>0.524303</td>\n",
       "      <td>0.146380</td>\n",
       "      <td>0.438032</td>\n",
       "      <td>0.352218</td>\n",
       "      <td>0.241927</td>\n",
       "      <td>0.090611</td>\n",
       "      <td>0.078041</td>\n",
       "      <td>77.890000</td>\n",
       "      <td>0.000000</td>\n",
       "    </tr>\n",
       "    <tr>\n",
       "      <td>max</td>\n",
       "      <td>169197.000000</td>\n",
       "      <td>2.454930</td>\n",
       "      <td>22.057729</td>\n",
       "      <td>9.382558</td>\n",
       "      <td>16.875344</td>\n",
       "      <td>34.801666</td>\n",
       "      <td>73.301626</td>\n",
       "      <td>120.589494</td>\n",
       "      <td>20.007208</td>\n",
       "      <td>15.594995</td>\n",
       "      <td>...</td>\n",
       "      <td>27.202839</td>\n",
       "      <td>10.503090</td>\n",
       "      <td>22.528412</td>\n",
       "      <td>4.584549</td>\n",
       "      <td>7.519589</td>\n",
       "      <td>3.517346</td>\n",
       "      <td>31.612198</td>\n",
       "      <td>33.847808</td>\n",
       "      <td>25691.160000</td>\n",
       "      <td>1.000000</td>\n",
       "    </tr>\n",
       "  </tbody>\n",
       "</table>\n",
       "<p>8 rows × 31 columns</p>\n",
       "</div>"
      ],
      "text/plain": [
       "                Time             V1             V2             V3  \\\n",
       "count  279949.000000  279949.000000  279949.000000  279949.000000   \n",
       "mean    93493.773580      -0.001013      -0.005981       0.013645   \n",
       "std     46819.605382       1.956698       1.650802       1.513507   \n",
       "min         0.000000     -56.407510     -72.715728     -48.325589   \n",
       "25%     53660.000000      -0.920386      -0.602418      -0.871328   \n",
       "50%     83456.000000       0.019256       0.062769       0.195399   \n",
       "75%    137788.000000       1.310178       0.797892       1.037772   \n",
       "max    169197.000000       2.454930      22.057729       9.382558   \n",
       "\n",
       "                  V4             V5             V6             V7  \\\n",
       "count  279949.000000  279949.000000  279949.000000  279949.000000   \n",
       "mean        0.002200      -0.004974       0.002555      -0.002103   \n",
       "std         1.415784       1.379128       1.330843       1.235432   \n",
       "min        -5.683171    -113.743307     -26.160506     -43.557242   \n",
       "25%        -0.848565      -0.696769      -0.765626      -0.555849   \n",
       "50%        -0.015383      -0.060620      -0.270649       0.037116   \n",
       "75%         0.749851       0.605564       0.401720       0.566616   \n",
       "max        16.875344      34.801666      73.301626     120.589494   \n",
       "\n",
       "                  V8             V9  ...            V21            V22  \\\n",
       "count  279949.000000  279949.000000  ...  279949.000000  279949.000000   \n",
       "mean       -0.000620      -0.000111  ...      -0.000277      -0.001540   \n",
       "std         1.192263       1.100348  ...       0.735580       0.724268   \n",
       "min       -73.216718     -13.434066  ...     -34.830382     -10.933144   \n",
       "25%        -0.207593      -0.645372  ...      -0.227939      -0.540894   \n",
       "50%         0.023006      -0.052506  ...      -0.029834       0.005531   \n",
       "75%         0.327047       0.599040  ...       0.184745       0.524303   \n",
       "max        20.007208      15.594995  ...      27.202839      10.503090   \n",
       "\n",
       "                 V23            V24            V25            V26  \\\n",
       "count  279949.000000  279949.000000  279949.000000  279949.000000   \n",
       "mean       -0.000762      -0.000310       0.002419       0.000037   \n",
       "std         0.626659       0.605957       0.520459       0.482750   \n",
       "min       -44.807735      -2.836627     -10.295397      -2.604551   \n",
       "25%        -0.162242      -0.354498      -0.314231      -0.327508   \n",
       "50%        -0.011919       0.041344       0.021121      -0.053060   \n",
       "75%         0.146380       0.438032       0.352218       0.241927   \n",
       "max        22.528412       4.584549       7.519589       3.517346   \n",
       "\n",
       "                 V27            V28         Amount          Class  \n",
       "count  279949.000000  279949.000000  279949.000000  279949.000000  \n",
       "mean        0.000065       0.000029      88.689328       0.001743  \n",
       "std         0.403044       0.330863     250.331097       0.041715  \n",
       "min       -22.565679     -15.430084       0.000000       0.000000  \n",
       "25%        -0.070713      -0.052699       5.720000       0.000000  \n",
       "50%         0.001502       0.011561      22.130000       0.000000  \n",
       "75%         0.090611       0.078041      77.890000       0.000000  \n",
       "max        31.612198      33.847808   25691.160000       1.000000  \n",
       "\n",
       "[8 rows x 31 columns]"
      ]
     },
<<<<<<< HEAD
     "execution_count": 4,
=======
     "execution_count": 174,
>>>>>>> 518089ed640712f4df2150eeabd1c51882461f3e
     "metadata": {},
     "output_type": "execute_result"
    }
   ],
   "source": [
    "df.describe()"
   ]
  },
  {
   "cell_type": "code",
<<<<<<< HEAD
   "execution_count": 5,
=======
   "execution_count": 175,
>>>>>>> 518089ed640712f4df2150eeabd1c51882461f3e
   "metadata": {},
   "outputs": [
    {
     "data": {
      "text/html": [
       "<div>\n",
       "<style scoped>\n",
       "    .dataframe tbody tr th:only-of-type {\n",
       "        vertical-align: middle;\n",
       "    }\n",
       "\n",
       "    .dataframe tbody tr th {\n",
       "        vertical-align: top;\n",
       "    }\n",
       "\n",
       "    .dataframe thead th {\n",
       "        text-align: right;\n",
       "    }\n",
       "</style>\n",
       "<table border=\"1\" class=\"dataframe\">\n",
       "  <thead>\n",
       "    <tr style=\"text-align: right;\">\n",
       "      <th></th>\n",
       "      <th>Time</th>\n",
       "      <th>V1</th>\n",
       "      <th>V2</th>\n",
       "      <th>V3</th>\n",
       "      <th>V4</th>\n",
       "      <th>V5</th>\n",
       "      <th>V6</th>\n",
       "      <th>V7</th>\n",
       "      <th>V8</th>\n",
       "      <th>V9</th>\n",
       "      <th>...</th>\n",
       "      <th>V21</th>\n",
       "      <th>V22</th>\n",
       "      <th>V23</th>\n",
       "      <th>V24</th>\n",
       "      <th>V25</th>\n",
       "      <th>V26</th>\n",
       "      <th>V27</th>\n",
       "      <th>V28</th>\n",
       "      <th>Amount</th>\n",
       "      <th>Class</th>\n",
       "    </tr>\n",
       "  </thead>\n",
       "  <tbody>\n",
       "    <tr>\n",
       "      <td>0</td>\n",
       "      <td>0.0</td>\n",
       "      <td>-1.359807</td>\n",
       "      <td>-0.072781</td>\n",
       "      <td>2.536347</td>\n",
       "      <td>1.378155</td>\n",
       "      <td>-0.338321</td>\n",
       "      <td>0.462388</td>\n",
       "      <td>0.239599</td>\n",
       "      <td>0.098698</td>\n",
       "      <td>0.363787</td>\n",
       "      <td>...</td>\n",
       "      <td>-0.018307</td>\n",
       "      <td>0.277838</td>\n",
       "      <td>-0.110474</td>\n",
       "      <td>0.066928</td>\n",
       "      <td>0.128539</td>\n",
       "      <td>-0.189115</td>\n",
       "      <td>0.133558</td>\n",
       "      <td>-0.021053</td>\n",
       "      <td>149.62</td>\n",
       "      <td>0.0</td>\n",
       "    </tr>\n",
       "    <tr>\n",
       "      <td>1</td>\n",
       "      <td>0.0</td>\n",
       "      <td>1.191857</td>\n",
       "      <td>0.266151</td>\n",
       "      <td>0.166480</td>\n",
       "      <td>0.448154</td>\n",
       "      <td>0.060018</td>\n",
       "      <td>-0.082361</td>\n",
       "      <td>-0.078803</td>\n",
       "      <td>0.085102</td>\n",
       "      <td>-0.255425</td>\n",
       "      <td>...</td>\n",
       "      <td>-0.225775</td>\n",
       "      <td>-0.638672</td>\n",
       "      <td>0.101288</td>\n",
       "      <td>-0.339846</td>\n",
       "      <td>0.167170</td>\n",
       "      <td>0.125895</td>\n",
       "      <td>-0.008983</td>\n",
       "      <td>0.014724</td>\n",
       "      <td>2.69</td>\n",
       "      <td>0.0</td>\n",
       "    </tr>\n",
       "    <tr>\n",
       "      <td>2</td>\n",
       "      <td>1.0</td>\n",
       "      <td>-1.358354</td>\n",
       "      <td>-1.340163</td>\n",
       "      <td>1.773209</td>\n",
       "      <td>0.379780</td>\n",
       "      <td>-0.503198</td>\n",
       "      <td>1.800499</td>\n",
       "      <td>0.791461</td>\n",
       "      <td>0.247676</td>\n",
       "      <td>-1.514654</td>\n",
       "      <td>...</td>\n",
       "      <td>0.247998</td>\n",
       "      <td>0.771679</td>\n",
       "      <td>0.909412</td>\n",
       "      <td>-0.689281</td>\n",
       "      <td>-0.327642</td>\n",
       "      <td>-0.139097</td>\n",
       "      <td>-0.055353</td>\n",
       "      <td>-0.059752</td>\n",
       "      <td>378.66</td>\n",
       "      <td>0.0</td>\n",
       "    </tr>\n",
       "    <tr>\n",
       "      <td>3</td>\n",
       "      <td>1.0</td>\n",
       "      <td>-0.966272</td>\n",
       "      <td>-0.185226</td>\n",
       "      <td>1.792993</td>\n",
       "      <td>-0.863291</td>\n",
       "      <td>-0.010309</td>\n",
       "      <td>1.247203</td>\n",
       "      <td>0.237609</td>\n",
       "      <td>0.377436</td>\n",
       "      <td>-1.387024</td>\n",
       "      <td>...</td>\n",
       "      <td>-0.108300</td>\n",
       "      <td>0.005274</td>\n",
       "      <td>-0.190321</td>\n",
       "      <td>-1.175575</td>\n",
       "      <td>0.647376</td>\n",
       "      <td>-0.221929</td>\n",
       "      <td>0.062723</td>\n",
       "      <td>0.061458</td>\n",
       "      <td>123.50</td>\n",
       "      <td>0.0</td>\n",
       "    </tr>\n",
       "    <tr>\n",
       "      <td>4</td>\n",
       "      <td>2.0</td>\n",
       "      <td>-1.158233</td>\n",
       "      <td>0.877737</td>\n",
       "      <td>1.548718</td>\n",
       "      <td>0.403034</td>\n",
       "      <td>-0.407193</td>\n",
       "      <td>0.095921</td>\n",
       "      <td>0.592941</td>\n",
       "      <td>-0.270533</td>\n",
       "      <td>0.817739</td>\n",
       "      <td>...</td>\n",
       "      <td>-0.009431</td>\n",
       "      <td>0.798278</td>\n",
       "      <td>-0.137458</td>\n",
       "      <td>0.141267</td>\n",
       "      <td>-0.206010</td>\n",
       "      <td>0.502292</td>\n",
       "      <td>0.219422</td>\n",
       "      <td>0.215153</td>\n",
       "      <td>69.99</td>\n",
       "      <td>0.0</td>\n",
       "    </tr>\n",
       "  </tbody>\n",
       "</table>\n",
       "<p>5 rows × 31 columns</p>\n",
       "</div>"
      ],
      "text/plain": [
       "   Time        V1        V2        V3        V4        V5        V6        V7  \\\n",
       "0   0.0 -1.359807 -0.072781  2.536347  1.378155 -0.338321  0.462388  0.239599   \n",
       "1   0.0  1.191857  0.266151  0.166480  0.448154  0.060018 -0.082361 -0.078803   \n",
       "2   1.0 -1.358354 -1.340163  1.773209  0.379780 -0.503198  1.800499  0.791461   \n",
       "3   1.0 -0.966272 -0.185226  1.792993 -0.863291 -0.010309  1.247203  0.237609   \n",
       "4   2.0 -1.158233  0.877737  1.548718  0.403034 -0.407193  0.095921  0.592941   \n",
       "\n",
       "         V8        V9  ...       V21       V22       V23       V24       V25  \\\n",
       "0  0.098698  0.363787  ... -0.018307  0.277838 -0.110474  0.066928  0.128539   \n",
       "1  0.085102 -0.255425  ... -0.225775 -0.638672  0.101288 -0.339846  0.167170   \n",
       "2  0.247676 -1.514654  ...  0.247998  0.771679  0.909412 -0.689281 -0.327642   \n",
       "3  0.377436 -1.387024  ... -0.108300  0.005274 -0.190321 -1.175575  0.647376   \n",
       "4 -0.270533  0.817739  ... -0.009431  0.798278 -0.137458  0.141267 -0.206010   \n",
       "\n",
       "        V26       V27       V28  Amount  Class  \n",
       "0 -0.189115  0.133558 -0.021053  149.62    0.0  \n",
       "1  0.125895 -0.008983  0.014724    2.69    0.0  \n",
       "2 -0.139097 -0.055353 -0.059752  378.66    0.0  \n",
       "3 -0.221929  0.062723  0.061458  123.50    0.0  \n",
       "4  0.502292  0.219422  0.215153   69.99    0.0  \n",
       "\n",
       "[5 rows x 31 columns]"
      ]
     },
<<<<<<< HEAD
     "execution_count": 5,
=======
     "execution_count": 175,
>>>>>>> 518089ed640712f4df2150eeabd1c51882461f3e
     "metadata": {},
     "output_type": "execute_result"
    }
   ],
   "source": [
    "df.head()"
   ]
  },
  {
   "cell_type": "code",
<<<<<<< HEAD
   "execution_count": 6,
=======
   "execution_count": 177,
>>>>>>> 518089ed640712f4df2150eeabd1c51882461f3e
   "metadata": {},
   "outputs": [
    {
     "data": {
      "text/plain": [
       "Time      float64\n",
       "V1        float64\n",
       "V2        float64\n",
       "V3        float64\n",
       "V4        float64\n",
       "V5        float64\n",
       "V6        float64\n",
       "V7        float64\n",
       "V8        float64\n",
       "V9        float64\n",
       "V10       float64\n",
       "V11       float64\n",
       "V12       float64\n",
       "V13       float64\n",
       "V14       float64\n",
       "V15       float64\n",
       "V16       float64\n",
       "V17       float64\n",
       "V18       float64\n",
       "V19       float64\n",
       "V20       float64\n",
       "V21       float64\n",
       "V22       float64\n",
       "V23       float64\n",
       "V24       float64\n",
       "V25       float64\n",
       "V26       float64\n",
       "V27       float64\n",
       "V28       float64\n",
       "Amount    float64\n",
       "Class     float64\n",
       "dtype: object"
      ]
     },
<<<<<<< HEAD
     "execution_count": 6,
=======
     "execution_count": 177,
>>>>>>> 518089ed640712f4df2150eeabd1c51882461f3e
     "metadata": {},
     "output_type": "execute_result"
    }
   ],
   "source": [
    "df.dtypes"
   ]
  },
  {
   "cell_type": "code",
<<<<<<< HEAD
   "execution_count": 7,
=======
   "execution_count": 178,
>>>>>>> 518089ed640712f4df2150eeabd1c51882461f3e
   "metadata": {},
   "outputs": [
    {
     "data": {
      "text/plain": [
       "0.0    279461\n",
       "1.0       488\n",
       "Name: Class, dtype: int64"
      ]
     },
<<<<<<< HEAD
     "execution_count": 7,
=======
     "execution_count": 178,
>>>>>>> 518089ed640712f4df2150eeabd1c51882461f3e
     "metadata": {},
     "output_type": "execute_result"
    }
   ],
   "source": [
    "df['Class'].value_counts()"
   ]
  },
  {
   "cell_type": "code",
<<<<<<< HEAD
   "execution_count": 8,
=======
   "execution_count": 179,
>>>>>>> 518089ed640712f4df2150eeabd1c51882461f3e
   "metadata": {},
   "outputs": [
    {
     "data": {
      "text/plain": [
<<<<<<< HEAD
       "<matplotlib.axes._subplots.AxesSubplot at 0x7fd44009ea20>"
      ]
     },
     "execution_count": 8,
=======
       "<matplotlib.axes._subplots.AxesSubplot at 0x7f2914504630>"
      ]
     },
     "execution_count": 179,
>>>>>>> 518089ed640712f4df2150eeabd1c51882461f3e
     "metadata": {},
     "output_type": "execute_result"
    },
    {
     "data": {
      "image/png": "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\n",
      "text/plain": [
       "<Figure size 432x288 with 1 Axes>"
      ]
     },
     "metadata": {
      "needs_background": "light"
     },
     "output_type": "display_data"
    }
   ],
   "source": [
    "p = pd.value_counts(df['Class'], sort = True)\n",
    "p.plot(kind = 'bar', rot=0)"
   ]
  },
  {
   "cell_type": "markdown",
   "metadata": {},
   "source": [
    "IMBALANCED DATASET"
   ]
  },
  {
   "cell_type": "code",
<<<<<<< HEAD
   "execution_count": 9,
=======
   "execution_count": 180,
>>>>>>> 518089ed640712f4df2150eeabd1c51882461f3e
   "metadata": {},
   "outputs": [
    {
     "data": {
      "text/plain": [
       "(284617, 31)"
      ]
     },
<<<<<<< HEAD
     "execution_count": 9,
=======
     "execution_count": 180,
>>>>>>> 518089ed640712f4df2150eeabd1c51882461f3e
     "metadata": {},
     "output_type": "execute_result"
    }
   ],
   "source": [
    "df.shape"
   ]
  },
  {
   "cell_type": "code",
<<<<<<< HEAD
   "execution_count": 10,
=======
   "execution_count": 181,
>>>>>>> 518089ed640712f4df2150eeabd1c51882461f3e
   "metadata": {},
   "outputs": [
    {
     "data": {
      "text/plain": [
       "Time      4668\n",
       "V1        4668\n",
       "V2        4668\n",
       "V3        4668\n",
       "V4        4668\n",
       "V5        4668\n",
       "V6        4668\n",
       "V7        4668\n",
       "V8        4668\n",
       "V9        4668\n",
       "V10       4668\n",
       "V11       4668\n",
       "V12       4668\n",
       "V13       4668\n",
       "V14       4668\n",
       "V15       4668\n",
       "V16       4668\n",
       "V17       4668\n",
       "V18       4668\n",
       "V19       4668\n",
       "V20       4668\n",
       "V21       4668\n",
       "V22       4668\n",
       "V23       4668\n",
       "V24       4668\n",
       "V25       4668\n",
       "V26       4668\n",
       "V27       4668\n",
       "V28       4668\n",
       "Amount    4668\n",
       "Class     4668\n",
       "dtype: int64"
      ]
     },
<<<<<<< HEAD
     "execution_count": 10,
=======
     "execution_count": 181,
>>>>>>> 518089ed640712f4df2150eeabd1c51882461f3e
     "metadata": {},
     "output_type": "execute_result"
    }
   ],
   "source": [
    "df.isnull().sum()"
   ]
  },
  {
   "cell_type": "code",
<<<<<<< HEAD
   "execution_count": 11,
=======
   "execution_count": 182,
>>>>>>> 518089ed640712f4df2150eeabd1c51882461f3e
   "metadata": {},
   "outputs": [
    {
     "data": {
      "text/plain": [
       "Time     NaN\n",
       "V1       NaN\n",
       "V2       NaN\n",
       "V3       NaN\n",
       "V4       NaN\n",
       "V5       NaN\n",
       "V6       NaN\n",
       "V7       NaN\n",
       "V8       NaN\n",
       "V9       NaN\n",
       "V10      NaN\n",
       "V11      NaN\n",
       "V12      NaN\n",
       "V13      NaN\n",
       "V14      NaN\n",
       "V15      NaN\n",
       "V16      NaN\n",
       "V17      NaN\n",
       "V18      NaN\n",
       "V19      NaN\n",
       "V20      NaN\n",
       "V21      NaN\n",
       "V22      NaN\n",
       "V23      NaN\n",
       "V24      NaN\n",
       "V25      NaN\n",
       "V26      NaN\n",
       "V27      NaN\n",
       "V28      NaN\n",
       "Amount   NaN\n",
       "Class    NaN\n",
       "Name: 284612, dtype: float64"
      ]
     },
<<<<<<< HEAD
     "execution_count": 11,
=======
     "execution_count": 182,
>>>>>>> 518089ed640712f4df2150eeabd1c51882461f3e
     "metadata": {},
     "output_type": "execute_result"
    }
   ],
   "source": [
    "df.iloc[284612]    "
   ]
  },
  {
   "cell_type": "code",
<<<<<<< HEAD
   "execution_count": 12,
=======
   "execution_count": 183,
>>>>>>> 518089ed640712f4df2150eeabd1c51882461f3e
   "metadata": {},
   "outputs": [],
   "source": [
    "df=df.dropna(axis=0)"
   ]
  },
  {
   "cell_type": "code",
<<<<<<< HEAD
   "execution_count": 13,
=======
   "execution_count": 184,
>>>>>>> 518089ed640712f4df2150eeabd1c51882461f3e
   "metadata": {},
   "outputs": [
    {
     "data": {
      "text/plain": [
       "Time      0\n",
       "V1        0\n",
       "V2        0\n",
       "V3        0\n",
       "V4        0\n",
       "V5        0\n",
       "V6        0\n",
       "V7        0\n",
       "V8        0\n",
       "V9        0\n",
       "V10       0\n",
       "V11       0\n",
       "V12       0\n",
       "V13       0\n",
       "V14       0\n",
       "V15       0\n",
       "V16       0\n",
       "V17       0\n",
       "V18       0\n",
       "V19       0\n",
       "V20       0\n",
       "V21       0\n",
       "V22       0\n",
       "V23       0\n",
       "V24       0\n",
       "V25       0\n",
       "V26       0\n",
       "V27       0\n",
       "V28       0\n",
       "Amount    0\n",
       "Class     0\n",
       "dtype: int64"
      ]
     },
<<<<<<< HEAD
     "execution_count": 13,
=======
     "execution_count": 184,
>>>>>>> 518089ed640712f4df2150eeabd1c51882461f3e
     "metadata": {},
     "output_type": "execute_result"
    }
   ],
   "source": [
    "df.isnull().sum()"
   ]
  },
  {
   "cell_type": "code",
<<<<<<< HEAD
   "execution_count": 14,
=======
   "execution_count": 185,
>>>>>>> 518089ed640712f4df2150eeabd1c51882461f3e
   "metadata": {},
   "outputs": [
    {
     "data": {
      "text/plain": [
       "(279949, 31)"
      ]
     },
<<<<<<< HEAD
     "execution_count": 14,
=======
     "execution_count": 185,
>>>>>>> 518089ed640712f4df2150eeabd1c51882461f3e
     "metadata": {},
     "output_type": "execute_result"
    }
   ],
   "source": [
    "df.shape"
   ]
  },
  {
   "cell_type": "code",
<<<<<<< HEAD
   "execution_count": 15,
=======
   "execution_count": 187,
>>>>>>> 518089ed640712f4df2150eeabd1c51882461f3e
   "metadata": {},
   "outputs": [
    {
     "data": {
      "text/plain": [
<<<<<<< HEAD
       "<matplotlib.axes._subplots.AxesSubplot at 0x7fd43fff0a20>"
      ]
     },
     "execution_count": 15,
=======
       "<matplotlib.axes._subplots.AxesSubplot at 0x7f29144d2b00>"
      ]
     },
     "execution_count": 187,
>>>>>>> 518089ed640712f4df2150eeabd1c51882461f3e
     "metadata": {},
     "output_type": "execute_result"
    },
    {
     "data": {
      "image/png": "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\n",
      "text/plain": [
       "<Figure size 432x288 with 1 Axes>"
      ]
     },
     "metadata": {
      "needs_background": "light"
     },
     "output_type": "display_data"
    }
   ],
   "source": [
    "df['Amount'].plot()"
   ]
  },
  {
   "cell_type": "code",
<<<<<<< HEAD
   "execution_count": 16,
=======
   "execution_count": 188,
>>>>>>> 518089ed640712f4df2150eeabd1c51882461f3e
   "metadata": {},
   "outputs": [],
   "source": [
    "Fraud = df[df['Class']==1]\n",
    "Normal = df[df['Class']==0]"
   ]
  },
  {
   "cell_type": "code",
<<<<<<< HEAD
   "execution_count": 17,
=======
   "execution_count": 189,
>>>>>>> 518089ed640712f4df2150eeabd1c51882461f3e
   "metadata": {},
   "outputs": [
    {
     "data": {
      "text/plain": [
<<<<<<< HEAD
       "<matplotlib.collections.PathCollection at 0x7fd43ff649b0>"
      ]
     },
     "execution_count": 17,
=======
       "<matplotlib.collections.PathCollection at 0x7f2914454a20>"
      ]
     },
     "execution_count": 189,
>>>>>>> 518089ed640712f4df2150eeabd1c51882461f3e
     "metadata": {},
     "output_type": "execute_result"
    },
    {
     "data": {
      "image/png": "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\n",
      "text/plain": [
       "<Figure size 432x288 with 1 Axes>"
      ]
     },
     "metadata": {
      "needs_background": "light"
     },
     "output_type": "display_data"
    }
   ],
   "source": [
    "plt.scatter(Fraud.Time,Fraud.Amount)"
   ]
  },
  {
   "cell_type": "code",
<<<<<<< HEAD
   "execution_count": 18,
=======
   "execution_count": 190,
>>>>>>> 518089ed640712f4df2150eeabd1c51882461f3e
   "metadata": {},
   "outputs": [
    {
     "data": {
      "text/plain": [
<<<<<<< HEAD
       "<matplotlib.collections.PathCollection at 0x7fd43fe81b70>"
      ]
     },
     "execution_count": 18,
=======
       "<matplotlib.collections.PathCollection at 0x7f29143ba208>"
      ]
     },
     "execution_count": 190,
>>>>>>> 518089ed640712f4df2150eeabd1c51882461f3e
     "metadata": {},
     "output_type": "execute_result"
    },
    {
     "data": {
      "image/png": "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\n",
      "text/plain": [
       "<Figure size 432x288 with 1 Axes>"
      ]
     },
     "metadata": {
      "needs_background": "light"
     },
     "output_type": "display_data"
    }
   ],
   "source": [
    "plt.scatter(Normal.Time,Normal.Amount)"
   ]
  },
  {
   "cell_type": "code",
<<<<<<< HEAD
   "execution_count": 19,
=======
   "execution_count": 191,
>>>>>>> 518089ed640712f4df2150eeabd1c51882461f3e
   "metadata": {},
   "outputs": [],
   "source": [
    "scaler = MinMaxScaler()\n",
    "df['Amount'] = scaler.fit_transform(df['Amount'].values.reshape(-1,1))"
   ]
  },
  {
   "cell_type": "code",
<<<<<<< HEAD
   "execution_count": 20,
=======
   "execution_count": 192,
>>>>>>> 518089ed640712f4df2150eeabd1c51882461f3e
   "metadata": {},
   "outputs": [
    {
     "data": {
      "text/html": [
       "<div>\n",
       "<style scoped>\n",
       "    .dataframe tbody tr th:only-of-type {\n",
       "        vertical-align: middle;\n",
       "    }\n",
       "\n",
       "    .dataframe tbody tr th {\n",
       "        vertical-align: top;\n",
       "    }\n",
       "\n",
       "    .dataframe thead th {\n",
       "        text-align: right;\n",
       "    }\n",
       "</style>\n",
       "<table border=\"1\" class=\"dataframe\">\n",
       "  <thead>\n",
       "    <tr style=\"text-align: right;\">\n",
       "      <th></th>\n",
       "      <th>Time</th>\n",
       "      <th>V1</th>\n",
       "      <th>V2</th>\n",
       "      <th>V3</th>\n",
       "      <th>V4</th>\n",
       "      <th>V5</th>\n",
       "      <th>V6</th>\n",
       "      <th>V7</th>\n",
       "      <th>V8</th>\n",
       "      <th>V9</th>\n",
       "      <th>...</th>\n",
       "      <th>V21</th>\n",
       "      <th>V22</th>\n",
       "      <th>V23</th>\n",
       "      <th>V24</th>\n",
       "      <th>V25</th>\n",
       "      <th>V26</th>\n",
       "      <th>V27</th>\n",
       "      <th>V28</th>\n",
       "      <th>Amount</th>\n",
       "      <th>Class</th>\n",
       "    </tr>\n",
       "  </thead>\n",
       "  <tbody>\n",
       "    <tr>\n",
       "      <td>0</td>\n",
       "      <td>0.0</td>\n",
       "      <td>-1.359807</td>\n",
       "      <td>-0.072781</td>\n",
       "      <td>2.536347</td>\n",
       "      <td>1.378155</td>\n",
       "      <td>-0.338321</td>\n",
       "      <td>0.462388</td>\n",
       "      <td>0.239599</td>\n",
       "      <td>0.098698</td>\n",
       "      <td>0.363787</td>\n",
       "      <td>...</td>\n",
       "      <td>-0.018307</td>\n",
       "      <td>0.277838</td>\n",
       "      <td>-0.110474</td>\n",
       "      <td>0.066928</td>\n",
       "      <td>0.128539</td>\n",
       "      <td>-0.189115</td>\n",
       "      <td>0.133558</td>\n",
       "      <td>-0.021053</td>\n",
       "      <td>0.005824</td>\n",
       "      <td>0.0</td>\n",
       "    </tr>\n",
       "    <tr>\n",
       "      <td>1</td>\n",
       "      <td>0.0</td>\n",
       "      <td>1.191857</td>\n",
       "      <td>0.266151</td>\n",
       "      <td>0.166480</td>\n",
       "      <td>0.448154</td>\n",
       "      <td>0.060018</td>\n",
       "      <td>-0.082361</td>\n",
       "      <td>-0.078803</td>\n",
       "      <td>0.085102</td>\n",
       "      <td>-0.255425</td>\n",
       "      <td>...</td>\n",
       "      <td>-0.225775</td>\n",
       "      <td>-0.638672</td>\n",
       "      <td>0.101288</td>\n",
       "      <td>-0.339846</td>\n",
       "      <td>0.167170</td>\n",
       "      <td>0.125895</td>\n",
       "      <td>-0.008983</td>\n",
       "      <td>0.014724</td>\n",
       "      <td>0.000105</td>\n",
       "      <td>0.0</td>\n",
       "    </tr>\n",
       "    <tr>\n",
       "      <td>2</td>\n",
       "      <td>1.0</td>\n",
       "      <td>-1.358354</td>\n",
       "      <td>-1.340163</td>\n",
       "      <td>1.773209</td>\n",
       "      <td>0.379780</td>\n",
       "      <td>-0.503198</td>\n",
       "      <td>1.800499</td>\n",
       "      <td>0.791461</td>\n",
       "      <td>0.247676</td>\n",
       "      <td>-1.514654</td>\n",
       "      <td>...</td>\n",
       "      <td>0.247998</td>\n",
       "      <td>0.771679</td>\n",
       "      <td>0.909412</td>\n",
       "      <td>-0.689281</td>\n",
       "      <td>-0.327642</td>\n",
       "      <td>-0.139097</td>\n",
       "      <td>-0.055353</td>\n",
       "      <td>-0.059752</td>\n",
       "      <td>0.014739</td>\n",
       "      <td>0.0</td>\n",
       "    </tr>\n",
       "    <tr>\n",
       "      <td>3</td>\n",
       "      <td>1.0</td>\n",
       "      <td>-0.966272</td>\n",
       "      <td>-0.185226</td>\n",
       "      <td>1.792993</td>\n",
       "      <td>-0.863291</td>\n",
       "      <td>-0.010309</td>\n",
       "      <td>1.247203</td>\n",
       "      <td>0.237609</td>\n",
       "      <td>0.377436</td>\n",
       "      <td>-1.387024</td>\n",
       "      <td>...</td>\n",
       "      <td>-0.108300</td>\n",
       "      <td>0.005274</td>\n",
       "      <td>-0.190321</td>\n",
       "      <td>-1.175575</td>\n",
       "      <td>0.647376</td>\n",
       "      <td>-0.221929</td>\n",
       "      <td>0.062723</td>\n",
       "      <td>0.061458</td>\n",
       "      <td>0.004807</td>\n",
       "      <td>0.0</td>\n",
       "    </tr>\n",
       "    <tr>\n",
       "      <td>4</td>\n",
       "      <td>2.0</td>\n",
       "      <td>-1.158233</td>\n",
       "      <td>0.877737</td>\n",
       "      <td>1.548718</td>\n",
       "      <td>0.403034</td>\n",
       "      <td>-0.407193</td>\n",
       "      <td>0.095921</td>\n",
       "      <td>0.592941</td>\n",
       "      <td>-0.270533</td>\n",
       "      <td>0.817739</td>\n",
       "      <td>...</td>\n",
       "      <td>-0.009431</td>\n",
       "      <td>0.798278</td>\n",
       "      <td>-0.137458</td>\n",
       "      <td>0.141267</td>\n",
       "      <td>-0.206010</td>\n",
       "      <td>0.502292</td>\n",
       "      <td>0.219422</td>\n",
       "      <td>0.215153</td>\n",
       "      <td>0.002724</td>\n",
       "      <td>0.0</td>\n",
       "    </tr>\n",
       "  </tbody>\n",
       "</table>\n",
       "<p>5 rows × 31 columns</p>\n",
       "</div>"
      ],
      "text/plain": [
       "   Time        V1        V2        V3        V4        V5        V6        V7  \\\n",
       "0   0.0 -1.359807 -0.072781  2.536347  1.378155 -0.338321  0.462388  0.239599   \n",
       "1   0.0  1.191857  0.266151  0.166480  0.448154  0.060018 -0.082361 -0.078803   \n",
       "2   1.0 -1.358354 -1.340163  1.773209  0.379780 -0.503198  1.800499  0.791461   \n",
       "3   1.0 -0.966272 -0.185226  1.792993 -0.863291 -0.010309  1.247203  0.237609   \n",
       "4   2.0 -1.158233  0.877737  1.548718  0.403034 -0.407193  0.095921  0.592941   \n",
       "\n",
       "         V8        V9  ...       V21       V22       V23       V24       V25  \\\n",
       "0  0.098698  0.363787  ... -0.018307  0.277838 -0.110474  0.066928  0.128539   \n",
       "1  0.085102 -0.255425  ... -0.225775 -0.638672  0.101288 -0.339846  0.167170   \n",
       "2  0.247676 -1.514654  ...  0.247998  0.771679  0.909412 -0.689281 -0.327642   \n",
       "3  0.377436 -1.387024  ... -0.108300  0.005274 -0.190321 -1.175575  0.647376   \n",
       "4 -0.270533  0.817739  ... -0.009431  0.798278 -0.137458  0.141267 -0.206010   \n",
       "\n",
       "        V26       V27       V28    Amount  Class  \n",
       "0 -0.189115  0.133558 -0.021053  0.005824    0.0  \n",
       "1  0.125895 -0.008983  0.014724  0.000105    0.0  \n",
       "2 -0.139097 -0.055353 -0.059752  0.014739    0.0  \n",
       "3 -0.221929  0.062723  0.061458  0.004807    0.0  \n",
       "4  0.502292  0.219422  0.215153  0.002724    0.0  \n",
       "\n",
       "[5 rows x 31 columns]"
      ]
     },
<<<<<<< HEAD
     "execution_count": 20,
=======
     "execution_count": 192,
>>>>>>> 518089ed640712f4df2150eeabd1c51882461f3e
     "metadata": {},
     "output_type": "execute_result"
    }
   ],
   "source": [
    "df.head()"
   ]
  },
  {
   "cell_type": "code",
<<<<<<< HEAD
   "execution_count": 21,
=======
   "execution_count": 117,
>>>>>>> 518089ed640712f4df2150eeabd1c51882461f3e
   "metadata": {},
   "outputs": [],
   "source": [
    "corr = df.corr()"
   ]
  },
  {
   "cell_type": "code",
<<<<<<< HEAD
   "execution_count": 22,
=======
   "execution_count": 118,
>>>>>>> 518089ed640712f4df2150eeabd1c51882461f3e
   "metadata": {},
   "outputs": [
    {
     "data": {
      "text/plain": [
<<<<<<< HEAD
       "<matplotlib.axes._subplots.AxesSubplot at 0x7fd43feafd30>"
      ]
     },
     "execution_count": 22,
=======
       "<matplotlib.axes._subplots.AxesSubplot at 0x7f2914b92e48>"
      ]
     },
     "execution_count": 118,
>>>>>>> 518089ed640712f4df2150eeabd1c51882461f3e
     "metadata": {},
     "output_type": "execute_result"
    },
    {
     "data": {
<<<<<<< HEAD
      "image/png": "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\n",
=======
      "image/png": "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\n",
>>>>>>> 518089ed640712f4df2150eeabd1c51882461f3e
      "text/plain": [
       "<Figure size 1440x1080 with 2 Axes>"
      ]
     },
     "metadata": {
      "needs_background": "light"
     },
     "output_type": "display_data"
    }
   ],
   "source": [
    "plt.subplots(figsize=(20,15))\n",
    "sns.heatmap(corr)"
   ]
  },
  {
   "cell_type": "markdown",
   "metadata": {},
   "source": [
    "From Above heatmap-Time and Amount are not much important features for fraud"
   ]
  },
  {
<<<<<<< HEAD
   "cell_type": "markdown",
   "metadata": {},
   "source": [
    "Applying upsampling of minority class"
   ]
  },
  {
   "cell_type": "code",
   "execution_count": 29,
   "metadata": {},
   "outputs": [],
   "source": [
    "df_majority = df[df.Class==0]\n",
    "df_minority = df[df.Class==1]"
   ]
  },
  {
   "cell_type": "code",
   "execution_count": 32,
   "metadata": {},
   "outputs": [
    {
     "data": {
      "text/plain": [
       "279461"
      ]
     },
     "execution_count": 32,
     "metadata": {},
     "output_type": "execute_result"
    }
   ],
   "source": [
    "len(df_majority)"
   ]
  },
  {
   "cell_type": "code",
   "execution_count": 33,
   "metadata": {},
   "outputs": [
    {
     "data": {
      "text/plain": [
       "488"
      ]
     },
     "execution_count": 33,
     "metadata": {},
     "output_type": "execute_result"
    }
   ],
   "source": [
    "len(df_minority)"
=======
   "cell_type": "code",
   "execution_count": 197,
   "metadata": {},
   "outputs": [],
   "source": [
    "features=df.iloc[:,:-1]"
>>>>>>> 518089ed640712f4df2150eeabd1c51882461f3e
   ]
  },
  {
   "cell_type": "code",
<<<<<<< HEAD
   "execution_count": 38,
   "metadata": {},
   "outputs": [],
   "source": [
    "df_minority_upsampled = resample(df_minority, \n",
    "                                 replace=True,     # sample with replacement\n",
    "                                 n_samples=100000,    # to match majority class\n",
    "                                 random_state=123) # reproducible results\n",
    " "
   ]
  },
  {
   "cell_type": "code",
   "execution_count": 39,
   "metadata": {},
   "outputs": [
    {
     "data": {
      "text/html": [
       "<div>\n",
       "<style scoped>\n",
       "    .dataframe tbody tr th:only-of-type {\n",
       "        vertical-align: middle;\n",
       "    }\n",
       "\n",
       "    .dataframe tbody tr th {\n",
       "        vertical-align: top;\n",
       "    }\n",
       "\n",
       "    .dataframe thead th {\n",
       "        text-align: right;\n",
       "    }\n",
       "</style>\n",
       "<table border=\"1\" class=\"dataframe\">\n",
       "  <thead>\n",
       "    <tr style=\"text-align: right;\">\n",
       "      <th></th>\n",
       "      <th>Time</th>\n",
       "      <th>V1</th>\n",
       "      <th>V2</th>\n",
       "      <th>V3</th>\n",
       "      <th>V4</th>\n",
       "      <th>V5</th>\n",
       "      <th>V6</th>\n",
       "      <th>V7</th>\n",
       "      <th>V8</th>\n",
       "      <th>V9</th>\n",
       "      <th>...</th>\n",
       "      <th>V21</th>\n",
       "      <th>V22</th>\n",
       "      <th>V23</th>\n",
       "      <th>V24</th>\n",
       "      <th>V25</th>\n",
       "      <th>V26</th>\n",
       "      <th>V27</th>\n",
       "      <th>V28</th>\n",
       "      <th>Amount</th>\n",
       "      <th>Class</th>\n",
       "    </tr>\n",
       "  </thead>\n",
       "  <tbody>\n",
       "    <tr>\n",
       "      <td>182992</td>\n",
       "      <td>125612.0</td>\n",
       "      <td>1.889618</td>\n",
       "      <td>1.073099</td>\n",
       "      <td>-1.678018</td>\n",
       "      <td>4.173268</td>\n",
       "      <td>1.015516</td>\n",
       "      <td>-0.009389</td>\n",
       "      <td>-0.079706</td>\n",
       "      <td>0.064071</td>\n",
       "      <td>-0.714517</td>\n",
       "      <td>...</td>\n",
       "      <td>0.203728</td>\n",
       "      <td>0.733796</td>\n",
       "      <td>-0.036560</td>\n",
       "      <td>0.334306</td>\n",
       "      <td>0.147171</td>\n",
       "      <td>0.279556</td>\n",
       "      <td>0.031669</td>\n",
       "      <td>0.035883</td>\n",
       "      <td>0.000125</td>\n",
       "      <td>1.0</td>\n",
       "    </tr>\n",
       "    <tr>\n",
       "      <td>197586</td>\n",
       "      <td>132086.0</td>\n",
       "      <td>-0.361428</td>\n",
       "      <td>1.133472</td>\n",
       "      <td>-2.971360</td>\n",
       "      <td>-0.283073</td>\n",
       "      <td>0.371452</td>\n",
       "      <td>-0.574680</td>\n",
       "      <td>4.031513</td>\n",
       "      <td>-0.934398</td>\n",
       "      <td>-0.768255</td>\n",
       "      <td>...</td>\n",
       "      <td>0.110815</td>\n",
       "      <td>0.563861</td>\n",
       "      <td>-0.408436</td>\n",
       "      <td>-0.880079</td>\n",
       "      <td>1.408392</td>\n",
       "      <td>-0.137402</td>\n",
       "      <td>-0.001250</td>\n",
       "      <td>-0.182751</td>\n",
       "      <td>0.018711</td>\n",
       "      <td>1.0</td>\n",
       "    </tr>\n",
       "    <tr>\n",
       "      <td>151196</td>\n",
       "      <td>94952.0</td>\n",
       "      <td>0.842025</td>\n",
       "      <td>-0.365518</td>\n",
       "      <td>-2.464063</td>\n",
       "      <td>4.820886</td>\n",
       "      <td>0.775505</td>\n",
       "      <td>-0.614785</td>\n",
       "      <td>1.368024</td>\n",
       "      <td>-0.526262</td>\n",
       "      <td>-0.121356</td>\n",
       "      <td>...</td>\n",
       "      <td>-0.110622</td>\n",
       "      <td>-1.257800</td>\n",
       "      <td>-0.324418</td>\n",
       "      <td>-0.420020</td>\n",
       "      <td>-0.219501</td>\n",
       "      <td>-0.268873</td>\n",
       "      <td>-0.144582</td>\n",
       "      <td>0.104464</td>\n",
       "      <td>0.022244</td>\n",
       "      <td>1.0</td>\n",
       "    </tr>\n",
       "    <tr>\n",
       "      <td>263080</td>\n",
       "      <td>160791.0</td>\n",
       "      <td>2.132386</td>\n",
       "      <td>0.705608</td>\n",
       "      <td>-3.530759</td>\n",
       "      <td>0.514779</td>\n",
       "      <td>1.527175</td>\n",
       "      <td>-1.716268</td>\n",
       "      <td>1.132791</td>\n",
       "      <td>-0.574214</td>\n",
       "      <td>0.128904</td>\n",
       "      <td>...</td>\n",
       "      <td>0.163739</td>\n",
       "      <td>0.703910</td>\n",
       "      <td>-0.245076</td>\n",
       "      <td>0.460049</td>\n",
       "      <td>0.920281</td>\n",
       "      <td>-0.216586</td>\n",
       "      <td>-0.026219</td>\n",
       "      <td>-0.025001</td>\n",
       "      <td>0.000039</td>\n",
       "      <td>1.0</td>\n",
       "    </tr>\n",
       "    <tr>\n",
       "      <td>30442</td>\n",
       "      <td>35926.0</td>\n",
       "      <td>-3.896583</td>\n",
       "      <td>4.518355</td>\n",
       "      <td>-4.454027</td>\n",
       "      <td>5.547453</td>\n",
       "      <td>-4.121459</td>\n",
       "      <td>-1.163407</td>\n",
       "      <td>-6.805053</td>\n",
       "      <td>2.928356</td>\n",
       "      <td>-4.917130</td>\n",
       "      <td>...</td>\n",
       "      <td>1.691042</td>\n",
       "      <td>0.920021</td>\n",
       "      <td>-0.151104</td>\n",
       "      <td>0.011007</td>\n",
       "      <td>0.080303</td>\n",
       "      <td>0.412191</td>\n",
       "      <td>0.635789</td>\n",
       "      <td>0.501050</td>\n",
       "      <td>0.000177</td>\n",
       "      <td>1.0</td>\n",
       "    </tr>\n",
       "    <tr>\n",
       "      <td>...</td>\n",
       "      <td>...</td>\n",
       "      <td>...</td>\n",
       "      <td>...</td>\n",
       "      <td>...</td>\n",
       "      <td>...</td>\n",
       "      <td>...</td>\n",
       "      <td>...</td>\n",
       "      <td>...</td>\n",
       "      <td>...</td>\n",
       "      <td>...</td>\n",
       "      <td>...</td>\n",
       "      <td>...</td>\n",
       "      <td>...</td>\n",
       "      <td>...</td>\n",
       "      <td>...</td>\n",
       "      <td>...</td>\n",
       "      <td>...</td>\n",
       "      <td>...</td>\n",
       "      <td>...</td>\n",
       "      <td>...</td>\n",
       "      <td>...</td>\n",
       "    </tr>\n",
       "    <tr>\n",
       "      <td>239499</td>\n",
       "      <td>150138.0</td>\n",
       "      <td>-2.150855</td>\n",
       "      <td>2.187917</td>\n",
       "      <td>-3.430516</td>\n",
       "      <td>0.119476</td>\n",
       "      <td>-0.173210</td>\n",
       "      <td>0.290700</td>\n",
       "      <td>-2.808988</td>\n",
       "      <td>-2.679351</td>\n",
       "      <td>-0.556685</td>\n",
       "      <td>...</td>\n",
       "      <td>-0.073205</td>\n",
       "      <td>0.561496</td>\n",
       "      <td>-0.075034</td>\n",
       "      <td>-0.437619</td>\n",
       "      <td>0.353841</td>\n",
       "      <td>-0.521339</td>\n",
       "      <td>0.144465</td>\n",
       "      <td>0.026588</td>\n",
       "      <td>0.001946</td>\n",
       "      <td>1.0</td>\n",
       "    </tr>\n",
       "    <tr>\n",
       "      <td>223572</td>\n",
       "      <td>143434.0</td>\n",
       "      <td>-2.729482</td>\n",
       "      <td>3.312495</td>\n",
       "      <td>-4.242710</td>\n",
       "      <td>5.036985</td>\n",
       "      <td>-0.376561</td>\n",
       "      <td>-1.532462</td>\n",
       "      <td>-3.449159</td>\n",
       "      <td>1.856839</td>\n",
       "      <td>-3.623334</td>\n",
       "      <td>...</td>\n",
       "      <td>0.727415</td>\n",
       "      <td>-0.301432</td>\n",
       "      <td>-0.502433</td>\n",
       "      <td>-0.462309</td>\n",
       "      <td>0.510683</td>\n",
       "      <td>0.046665</td>\n",
       "      <td>0.514646</td>\n",
       "      <td>0.140999</td>\n",
       "      <td>0.000039</td>\n",
       "      <td>1.0</td>\n",
       "    </tr>\n",
       "    <tr>\n",
       "      <td>57248</td>\n",
       "      <td>47826.0</td>\n",
       "      <td>-0.887287</td>\n",
       "      <td>1.390002</td>\n",
       "      <td>1.219686</td>\n",
       "      <td>1.661425</td>\n",
       "      <td>1.009228</td>\n",
       "      <td>-0.733908</td>\n",
       "      <td>0.855829</td>\n",
       "      <td>0.000077</td>\n",
       "      <td>-1.275631</td>\n",
       "      <td>...</td>\n",
       "      <td>-0.083734</td>\n",
       "      <td>-0.346930</td>\n",
       "      <td>-0.050619</td>\n",
       "      <td>0.231044</td>\n",
       "      <td>-0.450760</td>\n",
       "      <td>-0.376205</td>\n",
       "      <td>0.034504</td>\n",
       "      <td>0.157775</td>\n",
       "      <td>0.000295</td>\n",
       "      <td>1.0</td>\n",
       "    </tr>\n",
       "    <tr>\n",
       "      <td>183106</td>\n",
       "      <td>125658.0</td>\n",
       "      <td>0.224414</td>\n",
       "      <td>2.994499</td>\n",
       "      <td>-3.432458</td>\n",
       "      <td>3.986519</td>\n",
       "      <td>3.760233</td>\n",
       "      <td>0.165640</td>\n",
       "      <td>1.099378</td>\n",
       "      <td>-0.654557</td>\n",
       "      <td>-2.435416</td>\n",
       "      <td>...</td>\n",
       "      <td>0.491337</td>\n",
       "      <td>-0.984223</td>\n",
       "      <td>-0.421979</td>\n",
       "      <td>-1.048058</td>\n",
       "      <td>0.726412</td>\n",
       "      <td>0.268625</td>\n",
       "      <td>0.283689</td>\n",
       "      <td>0.419102</td>\n",
       "      <td>0.000000</td>\n",
       "      <td>1.0</td>\n",
       "    </tr>\n",
       "    <tr>\n",
       "      <td>154454</td>\n",
       "      <td>101597.0</td>\n",
       "      <td>0.913116</td>\n",
       "      <td>1.145381</td>\n",
       "      <td>-4.602878</td>\n",
       "      <td>2.091803</td>\n",
       "      <td>-0.473224</td>\n",
       "      <td>-2.085436</td>\n",
       "      <td>-1.671244</td>\n",
       "      <td>0.094397</td>\n",
       "      <td>0.337799</td>\n",
       "      <td>...</td>\n",
       "      <td>0.401416</td>\n",
       "      <td>-0.084933</td>\n",
       "      <td>-0.197684</td>\n",
       "      <td>-0.283271</td>\n",
       "      <td>0.387597</td>\n",
       "      <td>-0.553527</td>\n",
       "      <td>0.516274</td>\n",
       "      <td>0.270828</td>\n",
       "      <td>0.005756</td>\n",
       "      <td>1.0</td>\n",
       "    </tr>\n",
       "  </tbody>\n",
       "</table>\n",
       "<p>100000 rows × 31 columns</p>\n",
       "</div>"
      ],
      "text/plain": [
       "            Time        V1        V2        V3        V4        V5        V6  \\\n",
       "182992  125612.0  1.889618  1.073099 -1.678018  4.173268  1.015516 -0.009389   \n",
       "197586  132086.0 -0.361428  1.133472 -2.971360 -0.283073  0.371452 -0.574680   \n",
       "151196   94952.0  0.842025 -0.365518 -2.464063  4.820886  0.775505 -0.614785   \n",
       "263080  160791.0  2.132386  0.705608 -3.530759  0.514779  1.527175 -1.716268   \n",
       "30442    35926.0 -3.896583  4.518355 -4.454027  5.547453 -4.121459 -1.163407   \n",
       "...          ...       ...       ...       ...       ...       ...       ...   \n",
       "239499  150138.0 -2.150855  2.187917 -3.430516  0.119476 -0.173210  0.290700   \n",
       "223572  143434.0 -2.729482  3.312495 -4.242710  5.036985 -0.376561 -1.532462   \n",
       "57248    47826.0 -0.887287  1.390002  1.219686  1.661425  1.009228 -0.733908   \n",
       "183106  125658.0  0.224414  2.994499 -3.432458  3.986519  3.760233  0.165640   \n",
       "154454  101597.0  0.913116  1.145381 -4.602878  2.091803 -0.473224 -2.085436   \n",
       "\n",
       "              V7        V8        V9  ...       V21       V22       V23  \\\n",
       "182992 -0.079706  0.064071 -0.714517  ...  0.203728  0.733796 -0.036560   \n",
       "197586  4.031513 -0.934398 -0.768255  ...  0.110815  0.563861 -0.408436   \n",
       "151196  1.368024 -0.526262 -0.121356  ... -0.110622 -1.257800 -0.324418   \n",
       "263080  1.132791 -0.574214  0.128904  ...  0.163739  0.703910 -0.245076   \n",
       "30442  -6.805053  2.928356 -4.917130  ...  1.691042  0.920021 -0.151104   \n",
       "...          ...       ...       ...  ...       ...       ...       ...   \n",
       "239499 -2.808988 -2.679351 -0.556685  ... -0.073205  0.561496 -0.075034   \n",
       "223572 -3.449159  1.856839 -3.623334  ...  0.727415 -0.301432 -0.502433   \n",
       "57248   0.855829  0.000077 -1.275631  ... -0.083734 -0.346930 -0.050619   \n",
       "183106  1.099378 -0.654557 -2.435416  ...  0.491337 -0.984223 -0.421979   \n",
       "154454 -1.671244  0.094397  0.337799  ...  0.401416 -0.084933 -0.197684   \n",
       "\n",
       "             V24       V25       V26       V27       V28    Amount  Class  \n",
       "182992  0.334306  0.147171  0.279556  0.031669  0.035883  0.000125    1.0  \n",
       "197586 -0.880079  1.408392 -0.137402 -0.001250 -0.182751  0.018711    1.0  \n",
       "151196 -0.420020 -0.219501 -0.268873 -0.144582  0.104464  0.022244    1.0  \n",
       "263080  0.460049  0.920281 -0.216586 -0.026219 -0.025001  0.000039    1.0  \n",
       "30442   0.011007  0.080303  0.412191  0.635789  0.501050  0.000177    1.0  \n",
       "...          ...       ...       ...       ...       ...       ...    ...  \n",
       "239499 -0.437619  0.353841 -0.521339  0.144465  0.026588  0.001946    1.0  \n",
       "223572 -0.462309  0.510683  0.046665  0.514646  0.140999  0.000039    1.0  \n",
       "57248   0.231044 -0.450760 -0.376205  0.034504  0.157775  0.000295    1.0  \n",
       "183106 -1.048058  0.726412  0.268625  0.283689  0.419102  0.000000    1.0  \n",
       "154454 -0.283271  0.387597 -0.553527  0.516274  0.270828  0.005756    1.0  \n",
       "\n",
       "[100000 rows x 31 columns]"
      ]
     },
     "execution_count": 39,
     "metadata": {},
     "output_type": "execute_result"
    }
   ],
   "source": [
    "df_minority_upsampled"
   ]
  },
  {
   "cell_type": "code",
   "execution_count": 40,
   "metadata": {},
   "outputs": [],
   "source": [
    "df_upsampled = pd.concat([df_majority, df_minority_upsampled])"
   ]
  },
  {
   "cell_type": "code",
   "execution_count": 41,
   "metadata": {},
   "outputs": [
    {
     "data": {
      "text/plain": [
       "0.0    279461\n",
       "1.0    100000\n",
       "Name: Class, dtype: int64"
      ]
     },
     "execution_count": 41,
     "metadata": {},
     "output_type": "execute_result"
    }
   ],
   "source": [
    "df_upsampled.Class.value_counts()"
=======
   "execution_count": 198,
   "metadata": {},
   "outputs": [],
   "source": [
    "labels=df.iloc[:,30:31]"
>>>>>>> 518089ed640712f4df2150eeabd1c51882461f3e
   ]
  },
  {
   "cell_type": "markdown",
   "metadata": {},
   "source": [
    "Applying PCA for extracting top n features"
   ]
  },
  {
   "cell_type": "code",
<<<<<<< HEAD
   "execution_count": 48,
   "metadata": {},
   "outputs": [],
   "source": [
    "features=df_upsampled.iloc[:,:-1]"
   ]
  },
  {
   "cell_type": "code",
   "execution_count": 49,
   "metadata": {},
   "outputs": [],
   "source": [
    "labels=df_upsampled.iloc[:,30:31]"
   ]
  },
  {
   "cell_type": "code",
   "execution_count": 52,
=======
   "execution_count": 199,
>>>>>>> 518089ed640712f4df2150eeabd1c51882461f3e
   "metadata": {},
   "outputs": [],
   "source": [
    "pca = PCA(n_components=15)\n",
<<<<<<< HEAD
    "features= pd.DataFrame(pca.fit_transform(features))"
=======
    "new_features= pd.DataFrame(pca.fit_transform(features))"
>>>>>>> 518089ed640712f4df2150eeabd1c51882461f3e
   ]
  },
  {
   "cell_type": "code",
<<<<<<< HEAD
   "execution_count": 53,
=======
   "execution_count": 200,
>>>>>>> 518089ed640712f4df2150eeabd1c51882461f3e
   "metadata": {},
   "outputs": [
    {
     "data": {
      "text/plain": [
<<<<<<< HEAD
       "(379461, 15)"
      ]
     },
     "execution_count": 53,
=======
       "(279949, 15)"
      ]
     },
     "execution_count": 200,
>>>>>>> 518089ed640712f4df2150eeabd1c51882461f3e
     "metadata": {},
     "output_type": "execute_result"
    }
   ],
   "source": [
<<<<<<< HEAD
    "features.shape"
=======
    "new_features.shape"
>>>>>>> 518089ed640712f4df2150eeabd1c51882461f3e
   ]
  },
  {
   "cell_type": "code",
<<<<<<< HEAD
   "execution_count": 54,
   "metadata": {},
   "outputs": [
    {
     "data": {
      "text/plain": [
       "(379461, 1)"
      ]
     },
     "execution_count": 54,
     "metadata": {},
     "output_type": "execute_result"
    }
   ],
   "source": [
    "labels.shape"
   ]
  },
  {
   "cell_type": "code",
   "execution_count": 56,
=======
   "execution_count": 201,
>>>>>>> 518089ed640712f4df2150eeabd1c51882461f3e
   "metadata": {},
   "outputs": [
    {
     "data": {
      "text/html": [
       "<div>\n",
       "<style scoped>\n",
       "    .dataframe tbody tr th:only-of-type {\n",
       "        vertical-align: middle;\n",
       "    }\n",
       "\n",
       "    .dataframe tbody tr th {\n",
       "        vertical-align: top;\n",
       "    }\n",
       "\n",
       "    .dataframe thead th {\n",
       "        text-align: right;\n",
       "    }\n",
       "</style>\n",
       "<table border=\"1\" class=\"dataframe\">\n",
       "  <thead>\n",
       "    <tr style=\"text-align: right;\">\n",
       "      <th></th>\n",
<<<<<<< HEAD
       "      <th>Class</th>\n",
=======
       "      <th>0</th>\n",
       "      <th>1</th>\n",
       "      <th>2</th>\n",
       "      <th>3</th>\n",
       "      <th>4</th>\n",
       "      <th>5</th>\n",
       "      <th>6</th>\n",
       "      <th>7</th>\n",
       "      <th>8</th>\n",
       "      <th>9</th>\n",
       "      <th>10</th>\n",
       "      <th>11</th>\n",
       "      <th>12</th>\n",
       "      <th>13</th>\n",
       "      <th>14</th>\n",
>>>>>>> 518089ed640712f4df2150eeabd1c51882461f3e
       "    </tr>\n",
       "  </thead>\n",
       "  <tbody>\n",
       "    <tr>\n",
       "      <td>0</td>\n",
<<<<<<< HEAD
       "      <td>0.0</td>\n",
       "    </tr>\n",
       "    <tr>\n",
       "      <td>1</td>\n",
       "      <td>0.0</td>\n",
       "    </tr>\n",
       "    <tr>\n",
       "      <td>2</td>\n",
       "      <td>0.0</td>\n",
       "    </tr>\n",
       "    <tr>\n",
       "      <td>3</td>\n",
       "      <td>0.0</td>\n",
       "    </tr>\n",
       "    <tr>\n",
       "      <td>4</td>\n",
       "      <td>0.0</td>\n",
       "    </tr>\n",
       "    <tr>\n",
       "      <td>...</td>\n",
       "      <td>...</td>\n",
       "    </tr>\n",
       "    <tr>\n",
       "      <td>239499</td>\n",
       "      <td>1.0</td>\n",
       "    </tr>\n",
       "    <tr>\n",
       "      <td>223572</td>\n",
       "      <td>1.0</td>\n",
       "    </tr>\n",
       "    <tr>\n",
       "      <td>57248</td>\n",
       "      <td>1.0</td>\n",
       "    </tr>\n",
       "    <tr>\n",
       "      <td>183106</td>\n",
       "      <td>1.0</td>\n",
       "    </tr>\n",
       "    <tr>\n",
       "      <td>154454</td>\n",
       "      <td>1.0</td>\n",
       "    </tr>\n",
       "  </tbody>\n",
       "</table>\n",
       "<p>379461 rows × 1 columns</p>\n",
       "</div>"
      ],
      "text/plain": [
       "        Class\n",
       "0         0.0\n",
       "1         0.0\n",
       "2         0.0\n",
       "3         0.0\n",
       "4         0.0\n",
       "...       ...\n",
       "239499    1.0\n",
       "223572    1.0\n",
       "57248     1.0\n",
       "183106    1.0\n",
       "154454    1.0\n",
       "\n",
       "[379461 rows x 1 columns]"
      ]
     },
     "execution_count": 56,
=======
       "      <td>93493.773614</td>\n",
       "      <td>0.811046</td>\n",
       "      <td>0.097196</td>\n",
       "      <td>-0.424507</td>\n",
       "      <td>-1.358528</td>\n",
       "      <td>-0.408128</td>\n",
       "      <td>1.162163</td>\n",
       "      <td>0.085512</td>\n",
       "      <td>-0.095464</td>\n",
       "      <td>0.328926</td>\n",
       "      <td>-0.114011</td>\n",
       "      <td>0.583771</td>\n",
       "      <td>1.105109</td>\n",
       "      <td>-0.731865</td>\n",
       "      <td>1.040468</td>\n",
       "    </tr>\n",
       "    <tr>\n",
       "      <td>1</td>\n",
       "      <td>93493.773573</td>\n",
       "      <td>-1.579349</td>\n",
       "      <td>-0.177954</td>\n",
       "      <td>0.784838</td>\n",
       "      <td>-0.008544</td>\n",
       "      <td>0.500877</td>\n",
       "      <td>-1.017776</td>\n",
       "      <td>0.451688</td>\n",
       "      <td>0.159611</td>\n",
       "      <td>-0.324285</td>\n",
       "      <td>0.056206</td>\n",
       "      <td>-1.497781</td>\n",
       "      <td>-0.787565</td>\n",
       "      <td>0.025183</td>\n",
       "      <td>0.401772</td>\n",
       "    </tr>\n",
       "    <tr>\n",
       "      <td>2</td>\n",
       "      <td>93492.773612</td>\n",
       "      <td>0.875104</td>\n",
       "      <td>1.355275</td>\n",
       "      <td>-0.211471</td>\n",
       "      <td>-0.091857</td>\n",
       "      <td>0.997939</td>\n",
       "      <td>1.411722</td>\n",
       "      <td>0.859254</td>\n",
       "      <td>-0.066053</td>\n",
       "      <td>-1.595441</td>\n",
       "      <td>-0.119958</td>\n",
       "      <td>-0.060913</td>\n",
       "      <td>-0.639454</td>\n",
       "      <td>-0.312670</td>\n",
       "      <td>1.069916</td>\n",
       "    </tr>\n",
       "    <tr>\n",
       "      <td>3</td>\n",
       "      <td>93492.773587</td>\n",
       "      <td>0.517975</td>\n",
       "      <td>0.205468</td>\n",
       "      <td>-1.300092</td>\n",
       "      <td>0.429629</td>\n",
       "      <td>0.902932</td>\n",
       "      <td>0.827404</td>\n",
       "      <td>0.229082</td>\n",
       "      <td>-0.355141</td>\n",
       "      <td>-1.373692</td>\n",
       "      <td>0.211137</td>\n",
       "      <td>0.172855</td>\n",
       "      <td>-0.543610</td>\n",
       "      <td>0.156460</td>\n",
       "      <td>0.108286</td>\n",
       "    </tr>\n",
       "    <tr>\n",
       "      <td>4</td>\n",
       "      <td>93491.773586</td>\n",
       "      <td>0.693096</td>\n",
       "      <td>-0.856912</td>\n",
       "      <td>-0.396820</td>\n",
       "      <td>-0.364667</td>\n",
       "      <td>-0.407904</td>\n",
       "      <td>0.630124</td>\n",
       "      <td>0.463917</td>\n",
       "      <td>0.324084</td>\n",
       "      <td>0.720674</td>\n",
       "      <td>-0.796291</td>\n",
       "      <td>0.491694</td>\n",
       "      <td>-1.487406</td>\n",
       "      <td>-0.115056</td>\n",
       "      <td>1.373755</td>\n",
       "    </tr>\n",
       "  </tbody>\n",
       "</table>\n",
       "</div>"
      ],
      "text/plain": [
       "              0         1         2         3         4         5         6  \\\n",
       "0  93493.773614  0.811046  0.097196 -0.424507 -1.358528 -0.408128  1.162163   \n",
       "1  93493.773573 -1.579349 -0.177954  0.784838 -0.008544  0.500877 -1.017776   \n",
       "2  93492.773612  0.875104  1.355275 -0.211471 -0.091857  0.997939  1.411722   \n",
       "3  93492.773587  0.517975  0.205468 -1.300092  0.429629  0.902932  0.827404   \n",
       "4  93491.773586  0.693096 -0.856912 -0.396820 -0.364667 -0.407904  0.630124   \n",
       "\n",
       "          7         8         9        10        11        12        13  \\\n",
       "0  0.085512 -0.095464  0.328926 -0.114011  0.583771  1.105109 -0.731865   \n",
       "1  0.451688  0.159611 -0.324285  0.056206 -1.497781 -0.787565  0.025183   \n",
       "2  0.859254 -0.066053 -1.595441 -0.119958 -0.060913 -0.639454 -0.312670   \n",
       "3  0.229082 -0.355141 -1.373692  0.211137  0.172855 -0.543610  0.156460   \n",
       "4  0.463917  0.324084  0.720674 -0.796291  0.491694 -1.487406 -0.115056   \n",
       "\n",
       "         14  \n",
       "0  1.040468  \n",
       "1  0.401772  \n",
       "2  1.069916  \n",
       "3  0.108286  \n",
       "4  1.373755  "
      ]
     },
     "execution_count": 201,
>>>>>>> 518089ed640712f4df2150eeabd1c51882461f3e
     "metadata": {},
     "output_type": "execute_result"
    }
   ],
   "source": [
<<<<<<< HEAD
    "labels"
=======
    "new_features.head()"
>>>>>>> 518089ed640712f4df2150eeabd1c51882461f3e
   ]
  },
  {
   "cell_type": "code",
   "execution_count": null,
   "metadata": {},
   "outputs": [],
   "source": []
  }
 ],
 "metadata": {
  "kernelspec": {
   "display_name": "Python 3",
   "language": "python",
   "name": "python3"
  },
  "language_info": {
   "codemirror_mode": {
    "name": "ipython",
    "version": 3
   },
   "file_extension": ".py",
   "mimetype": "text/x-python",
   "name": "python",
   "nbconvert_exporter": "python",
   "pygments_lexer": "ipython3",
   "version": "3.7.3"
  }
 },
 "nbformat": 4,
 "nbformat_minor": 4
}
